{
 "cells": [
  {
   "cell_type": "code",
   "execution_count": 1,
   "id": "31013f5a-f2b4-466d-bc65-f1ab048a6b03",
   "metadata": {},
   "outputs": [],
   "source": [
    "import sqlite3"
   ]
  },
  {
   "cell_type": "code",
   "execution_count": 12,
   "id": "b148278e-92e2-4a79-82be-8708ca2afa55",
   "metadata": {
    "tags": []
   },
   "outputs": [
    {
     "name": "stdout",
     "output_type": "stream",
     "text": [
      "A new database is created\n",
      "(1, 'Marijam', '09/02/2022', 'London', 98000.89, 28.0)\n",
      "(1, 'Peter', '10/02/2022', 'Kochi', 65000.89, 28.0)\n",
      "(2, 'James', '11/02/2022', 'Sydney', 65000.89, 32.0)\n"
     ]
    }
   ],
   "source": [
    "X=sqlite3.connect(\"SQL5DB.db\")\n",
    "print(\"A new database is created\")\n",
    "Y=X.cursor()\n",
    "\n",
    "Y.execute('''CREATE TABLE SQL5Tab2(ID INT, Name TEXT, Date_Joined TEXT, Place TEXT, Salary INT, Age REAL)''')\n",
    "\n",
    "Y.execute('''INSERT INTO SQL5Tab2 VALUES(1,\"Peter\",\"10/02/2022\",\"Kochi\",65000.89,28),(2,\"James\",\"11/02/2022\",\"Sydney\",65000.89,32),(1,\"Marijam\",\"09/02/2022\",\"London\",98000.89,28)''')\n",
    "\n",
    "for row in Y.execute('''SELECT * FROM SQL5Tab2 ORDER BY Date_Joined'''):\n",
    "    print (row)\n",
    "\n",
    "\n",
    "X.commit()\n",
    "X.close()\n"
   ]
  },
  {
   "cell_type": "code",
   "execution_count": 15,
   "id": "ca6d56cd-68ab-4e34-b505-aec774034cf9",
   "metadata": {
    "tags": []
   },
   "outputs": [
    {
     "name": "stdout",
     "output_type": "stream",
     "text": [
      "[(1, 'Peter', '10/02/2022', 'Kochi', 65000.89, 28.0)]\n"
     ]
    }
   ],
   "source": [
    "X=sqlite3.connect(\"SQL5DB.db\")\n",
    "\n",
    "Y=X.cursor()\n",
    "\n",
    "Y.execute(\"SELECT * FROM SQL5Tab2 WHERE Name='Peter' \")\n",
    "print (Y.fetchall())\n",
    "\n",
    "X.close()"
   ]
  },
  {
   "cell_type": "code",
   "execution_count": 18,
   "id": "35d297c4-f41a-439f-b41a-2d900f49c066",
   "metadata": {},
   "outputs": [
    {
     "name": "stdout",
     "output_type": "stream",
     "text": [
      "ID= 1\n",
      "Name= Peter\n",
      "Date_Joined= 10/02/2022\n",
      "Place= Kochi\n",
      "Salary= 65000.89\n",
      "Age= 28.0\n",
      "ID= 2\n",
      "Name= James\n",
      "Date_Joined= 11/02/2022\n",
      "Place= Sydney\n",
      "Salary= 65000.89\n",
      "Age= 32.0\n",
      "ID= 1\n",
      "Name= Marijam\n",
      "Date_Joined= 09/02/2022\n",
      "Place= London\n",
      "Salary= 98000.89\n",
      "Age= 28.0\n"
     ]
    }
   ],
   "source": [
    "X=sqlite3.connect(\"SQL5DB.db\")\n",
    "\n",
    "Y=X.cursor()\n",
    "\n",
    "data=Y.execute('''SELECT * FROM SQL5Tab2''')\n",
    "for k in data:\n",
    "        print(\"ID=\",k[0])\n",
    "        print(\"Name=\",k[1])\n",
    "        print(\"Date_Joined=\",k[2])\n",
    "        print(\"Place=\",k[3])\n",
    "        print(\"Salary=\",k[4])\n",
    "        print(\"Age=\",k[5])\n",
    "        \n",
    "X.close()"
   ]
  },
  {
   "cell_type": "code",
   "execution_count": null,
   "id": "5d7fda44-2ae3-4b4f-ac07-fe176b4aa32d",
   "metadata": {},
   "outputs": [],
   "source": []
  }
 ],
 "metadata": {
  "kernelspec": {
   "display_name": "Python 3",
   "language": "python",
   "name": "python3"
  },
  "language_info": {
   "codemirror_mode": {
    "name": "ipython",
    "version": 3
   },
   "file_extension": ".py",
   "mimetype": "text/x-python",
   "name": "python",
   "nbconvert_exporter": "python",
   "pygments_lexer": "ipython3",
   "version": "3.8.8"
  }
 },
 "nbformat": 4,
 "nbformat_minor": 5
}

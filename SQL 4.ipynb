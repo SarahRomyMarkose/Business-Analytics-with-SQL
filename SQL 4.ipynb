{
 "cells": [
  {
   "cell_type": "code",
   "execution_count": 1,
   "id": "c9b3bef3-97f6-4c5f-b673-330586d4ab01",
   "metadata": {},
   "outputs": [],
   "source": [
    "import sqlite3"
   ]
  },
  {
   "cell_type": "code",
   "execution_count": 6,
   "id": "10edf5a4-34fc-42f1-b443-37213f294330",
   "metadata": {},
   "outputs": [
    {
     "name": "stdout",
     "output_type": "stream",
     "text": [
      "A new Database is created\n"
     ]
    }
   ],
   "source": [
    "conn=sqlite3.connect(\"SQL4DB.db\")\n",
    "print(\"A new Database is created\")"
   ]
  },
  {
   "cell_type": "code",
   "execution_count": 14,
   "id": "e034397d-55dd-4dcb-b1df-eb0cd37fc36c",
   "metadata": {},
   "outputs": [
    {
     "ename": "OperationalError",
     "evalue": "table SQL4TABLE already exists",
     "output_type": "error",
     "traceback": [
      "\u001b[1;31m---------------------------------------------------------------------------\u001b[0m",
      "\u001b[1;31mOperationalError\u001b[0m                          Traceback (most recent call last)",
      "\u001b[1;32m<ipython-input-14-6fb78ea58af3>\u001b[0m in \u001b[0;36m<module>\u001b[1;34m\u001b[0m\n\u001b[1;32m----> 1\u001b[1;33m \u001b[0mconn\u001b[0m\u001b[1;33m.\u001b[0m\u001b[0mexecute\u001b[0m\u001b[1;33m(\u001b[0m\u001b[1;34m'''CREATE TABLE SQL4TABLE(ID INT, NAME TEXT)'''\u001b[0m\u001b[1;33m)\u001b[0m\u001b[1;33m\u001b[0m\u001b[1;33m\u001b[0m\u001b[0m\n\u001b[0m\u001b[0;32m      2\u001b[0m \u001b[0mprint\u001b[0m\u001b[1;33m(\u001b[0m\u001b[1;34m\"A new Table is created\"\u001b[0m\u001b[1;33m)\u001b[0m\u001b[1;33m\u001b[0m\u001b[1;33m\u001b[0m\u001b[0m\n",
      "\u001b[1;31mOperationalError\u001b[0m: table SQL4TABLE already exists"
     ]
    }
   ],
   "source": [
    "conn.execute('''CREATE TABLE SQL4TABLE(ID INT, NAME TEXT)''')\n",
    "print(\"A new Table is created\")"
   ]
  },
  {
   "cell_type": "code",
   "execution_count": 16,
   "id": "639a57b3-631a-4ee9-b80c-bfd332898126",
   "metadata": {},
   "outputs": [],
   "source": [
    "conn.execute('''INSERT INTO SQL4TABLE VALUES(1,\"MATTHEW\"),(2,\"Ryan\"),(3,\"Apollina\"),(4,\"Carlo\"),(5,\"Mariya\"),(6,\"Alessandra\")''')\n",
    "conn.commit()"
   ]
  },
  {
   "cell_type": "code",
   "execution_count": null,
   "id": "00454e91-d14b-464a-bb6f-0589cab2002d",
   "metadata": {},
   "outputs": [],
   "source": []
  }
 ],
 "metadata": {
  "kernelspec": {
   "display_name": "Python 3",
   "language": "python",
   "name": "python3"
  },
  "language_info": {
   "codemirror_mode": {
    "name": "ipython",
    "version": 3
   },
   "file_extension": ".py",
   "mimetype": "text/x-python",
   "name": "python",
   "nbconvert_exporter": "python",
   "pygments_lexer": "ipython3",
   "version": "3.8.8"
  }
 },
 "nbformat": 4,
 "nbformat_minor": 5
}

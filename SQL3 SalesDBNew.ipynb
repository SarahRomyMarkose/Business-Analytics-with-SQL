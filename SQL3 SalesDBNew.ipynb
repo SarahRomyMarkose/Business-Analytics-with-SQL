{
 "cells": [
  {
   "cell_type": "code",
   "execution_count": 2,
   "id": "89141aa4-11d7-4b34-a0ca-6ede44810d95",
   "metadata": {},
   "outputs": [
    {
     "name": "stdout",
     "output_type": "stream",
     "text": [
      "Maximum of Unit price =  100\n",
      "Minimum of Unit price =  0\n",
      "Average of Unit price =  49.099\n"
     ]
    }
   ],
   "source": [
    "import sqlite3 #Q1\n",
    "\n",
    "X=sqlite3.connect('SalesDBNew.db')\n",
    "Y=X.cursor()\n",
    "\n",
    "Y.execute(\"SELECT * FROM Supermarket_sales\")\n",
    "new_list=[]\n",
    "\n",
    "for k in Y.fetchall():\n",
    "  new_list.append(int(k[16]))\n",
    "\n",
    "print(\"Maximum of Unit price = \",max(new_list))  \n",
    "print(\"Minimum of Unit price = \",min(new_list))  \n",
    "print(\"Average of Unit price = \",sum(new_list)/len(new_list))\n",
    "\n",
    "X.commit()\n",
    "Y.close()"
   ]
  },
  {
   "cell_type": "code",
   "execution_count": 3,
   "id": "d0b5a352-3d96-48f0-bfc8-5106c603034a",
   "metadata": {},
   "outputs": [
    {
     "name": "stdout",
     "output_type": "stream",
     "text": [
      "Maximum of Quantity =  10\n",
      "Minimum of Quantity =  1\n",
      "Average of Quantity =  5.51\n"
     ]
    }
   ],
   "source": [
    "import sqlite3 #Q2\n",
    "\n",
    "X=sqlite3.connect('SalesDBNew.db')\n",
    "Y=X.cursor()\n",
    " \n",
    "Y.execute(\"SELECT * FROM Supermarket_sales\")\n",
    "new_list=[]\n",
    "\n",
    "for k in Y.fetchall():\n",
    "  new_list.append(int(k[7]))\n",
    "\n",
    "print(\"Maximum of Quantity = \",max(new_list))  \n",
    "print(\"Minimum of Quantity = \",min(new_list))  \n",
    "print(\"Average of Quantity = \",sum(new_list)/len(new_list))  \n",
    "\n",
    "X.commit()\n",
    "Y.close()"
   ]
  },
  {
   "cell_type": "code",
   "execution_count": 7,
   "id": "0ccc549c-4c3e-4ba0-b3d4-280b2823036b",
   "metadata": {},
   "outputs": [
    {
     "name": "stdout",
     "output_type": "stream",
     "text": [
      "Maximum of Quantity in Health and Beauty =  10\n",
      "Minimum of Quantity in Health and Beauty =  1\n",
      "Average of Quantity in Health and Beauty =  5.618421052631579\n"
     ]
    }
   ],
   "source": [
    "import sqlite3 #Q3\n",
    "  \n",
    "X=sqlite3.connect('SalesDBNew.db')\n",
    "Y=X.cursor()\n",
    " \n",
    "Y.execute(\"SELECT * FROM Supermarket_sales WHERE Productline = 'Health and beauty'\")\n",
    "new_list=[]\n",
    "\n",
    "for k in Y.fetchall():\n",
    "  new_list.append(int(k[7]))\n",
    "\n",
    "print(\"Maximum of Quantity in Health and Beauty = \",max(new_list))  \n",
    "print(\"Minimum of Quantity in Health and Beauty = \",min(new_list))  \n",
    "print(\"Average of Quantity in Health and Beauty = \",sum(new_list)/len(new_list))  \n",
    "\n",
    "X.commit()\n",
    "Y.close()"
   ]
  },
  {
   "cell_type": "code",
   "execution_count": 8,
   "id": "0566ca26-730a-47dc-9cfe-4f6af8b75889",
   "metadata": {},
   "outputs": [
    {
     "name": "stdout",
     "output_type": "stream",
     "text": [
      "Maximum of Unitprice in Health and Beauty =  100\n",
      "Minimum of Unitprice in Health and Beauty =  0\n",
      "Average of Unitprice in Health and Beauty =  45.35526315789474\n"
     ]
    }
   ],
   "source": [
    "import sqlite3 #Q4\n",
    "\n",
    "X=sqlite3.connect('SalesDBNew.db')\n",
    "Y=X.cursor()\n",
    "\n",
    "Y.execute(\"SELECT * FROM Supermarket_sales WHERE Productline='Health and beauty'\")\n",
    "new_list=[]\n",
    "\n",
    "for k in Y.fetchall():\n",
    "    new_list.append(int(k[16]))\n",
    "    \n",
    "print(\"Maximum of Unitprice in Health and Beauty = \",max(new_list))  \n",
    "print(\"Minimum of Unitprice in Health and Beauty = \",min(new_list))  \n",
    "print(\"Average of Unitprice in Health and Beauty = \",sum(new_list)/len(new_list)) \n",
    "\n",
    "X.commit()\n",
    "Y.close()\n"
   ]
  },
  {
   "cell_type": "code",
   "execution_count": 9,
   "id": "e0c35848-6048-420a-9238-8cf7ab941d54",
   "metadata": {},
   "outputs": [
    {
     "name": "stdout",
     "output_type": "stream",
     "text": [
      "Maximum of Quantity in Electronic accessories =  10\n",
      "Minimum of Quantity in Electronic accessories =  1\n",
      "Average of Quantity in Electronic accessories =  5.711764705882353\n"
     ]
    }
   ],
   "source": [
    "import sqlite3 #Q5\n",
    "  \n",
    "X=sqlite3.connect('SalesDBNew.db')\n",
    "Y=X.cursor()\n",
    " \n",
    "Y.execute(\"SELECT * FROM Supermarket_sales WHERE Productline = 'Electronic accessories'\")\n",
    "new_list=[]\n",
    "\n",
    "for k in Y.fetchall():\n",
    "  new_list.append(int(k[7]))\n",
    "\n",
    "print(\"Maximum of Quantity in Electronic accessories = \",max(new_list))  \n",
    "print(\"Minimum of Quantity in Electronic accessories = \",min(new_list))  \n",
    "print(\"Average of Quantity in Electronic accessories = \",sum(new_list)/len(new_list))  \n",
    "\n",
    "X.commit()\n",
    "Y.close()"
   ]
  },
  {
   "cell_type": "code",
   "execution_count": 15,
   "id": "c25c86e3-83b0-48a3-8dc4-306bfbc1999e",
   "metadata": {},
   "outputs": [
    {
     "name": "stdout",
     "output_type": "stream",
     "text": [
      "Men with Health and beauty =  88\n"
     ]
    }
   ],
   "source": [
    "import sqlite3 #Q7\n",
    "  \n",
    "X = sqlite3.connect('SalesDBNew.db')\n",
    "Y = X.cursor()\n",
    " \n",
    "Y.execute(\"SELECT * FROM Supermarket_sales WHERE Gender = 'Male' AND Productline = 'Health and beauty'\")\n",
    "new_list=[]\n",
    "\n",
    "for k in Y.fetchall():\n",
    "  new_list.append(int(k[7]))\n",
    "  \n",
    "print(\"Men with Health and beauty = \",len(new_list))  \n",
    "\n",
    "X.commit()\n",
    "Y.close()"
   ]
  },
  {
   "cell_type": "code",
   "execution_count": 16,
   "id": "0731c7e3-f4e4-4b6b-8914-d8118a57d49c",
   "metadata": {},
   "outputs": [
    {
     "name": "stdout",
     "output_type": "stream",
     "text": [
      "Women with Health and beauty =  64\n"
     ]
    }
   ],
   "source": [
    "import sqlite3 #Q8\n",
    "  \n",
    "X = sqlite3.connect('SalesDBNew.db')\n",
    "Y = X.cursor()\n",
    " \n",
    "Y.execute(\"SELECT * FROM Supermarket_sales WHERE Gender = 'Female' AND Productline = 'Health and beauty'\")\n",
    "new_list=[]\n",
    "\n",
    "for k in Y.fetchall():\n",
    "  new_list.append(int(k[7]))\n",
    "  \n",
    "print(\"Women with Health and beauty = \",len(new_list))  \n",
    "\n",
    "X.commit()\n",
    "Y.close()"
   ]
  },
  {
   "cell_type": "code",
   "execution_count": 12,
   "id": "de113dee-6882-45ec-a584-b073e072c2ee",
   "metadata": {},
   "outputs": [
    {
     "data": {
      "text/plain": [
       "<matplotlib.collections.PathCollection at 0x1bf86b5af70>"
      ]
     },
     "execution_count": 12,
     "metadata": {},
     "output_type": "execute_result"
    },
    {
     "data": {
      "image/png": "[encoded data removed]",
      "text/plain": [
       "<Figure size 432x288 with 1 Axes>"
      ]
     },
     "metadata": {
      "needs_background": "light"
     },
     "output_type": "display_data"
    }
   ],
   "source": [
    "import sqlite3 #Q10\n",
    "  \n",
    "X = sqlite3.connect('SalesDBNew.db')\n",
    "Y = X.cursor()\n",
    "\n",
    "Y.execute(\"SELECT * FROM Supermarket_sales\")\n",
    "new_list=[]\n",
    "\n",
    "for k in Y.fetchall():\n",
    "  new_list.append(int(k[7]))\n",
    "\n",
    "Y.execute(\"SELECT * FROM Supermarket_sales\")\n",
    "\n",
    "new_list1=[]\n",
    "for k in Y.fetchall():\n",
    "  new_list1.append(int(k[8]))\n",
    "\n",
    "X.commit()\n",
    "Y.close()\n",
    "\n",
    "import matplotlib.pyplot as plt\n",
    "plt.scatter(new_list,new_list1)"
   ]
  },
  {
   "cell_type": "code",
   "execution_count": 14,
   "id": "40abb0fe-d52b-4d4e-bd74-a2b8ad6fac2b",
   "metadata": {},
   "outputs": [
    {
     "name": "stdout",
     "output_type": "stream",
     "text": [
      "Men using Fashion accessories or Sports and travel =  262\n"
     ]
    }
   ],
   "source": [
    "import sqlite3 #Q9\n",
    "  \n",
    "X = sqlite3.connect('SalesDBNew.db')\n",
    "Y = X.cursor()\n",
    " \n",
    "Y.execute(\"SELECT * FROM Supermarket_sales WHERE Gender = 'Female' AND Productline = 'Fashion accessories' OR Productline = 'Sports and travel'\")\n",
    "new_list=[]\n",
    "\n",
    "for k in Y.fetchall():\n",
    "  new_list.append(int(k[7]))\n",
    "  \n",
    "print(\"Men using Fashion accessories or Sports and travel = \",len(new_list))  \n",
    "\n",
    "X.commit()\n",
    "Y.close()"
   ]
  },
  {
   "cell_type": "code",
   "execution_count": null,
   "id": "d9fdaa6e-8b18-44d2-be2a-3646e48f0a69",
   "metadata": {},
   "outputs": [],
   "source": [
    "#Q6 not done (Error in Q)"
   ]
  },
  {
   "cell_type": "code",
   "execution_count": 18,
   "id": "005b7139-a3f4-425a-bd85-0a688dc1286d",
   "metadata": {},
   "outputs": [
    {
     "name": "stdout",
     "output_type": "stream",
     "text": [
      "Toatal Tax of Yangon =  171812\n"
     ]
    }
   ],
   "source": [
    "import sqlite3 #Q11\n",
    "  \n",
    "X = sqlite3.connect('SalesDBNew.db')\n",
    "Y = X.cursor()\n",
    " \n",
    "Y.execute(\"SELECT * FROM Supermarket_sales WHERE City='Yangon'\")\n",
    "new_list=[]\n",
    "\n",
    "for k in Y.fetchall():\n",
    "  new_list.append(int(k[8]))\n",
    "  \n",
    "print(\"Toatal Tax of Yangon = \",sum(new_list))  \n",
    "\n",
    "X.commit()\n",
    "Y.close()"
   ]
  },
  {
   "cell_type": "code",
   "execution_count": 21,
   "id": "f6274e65-c927-43bb-b70a-59d0014a0a50",
   "metadata": {},
   "outputs": [
    {
     "name": "stdout",
     "output_type": "stream",
     "text": [
      "Toatal Sales in Yangon =  1859\n"
     ]
    }
   ],
   "source": [
    "import sqlite3 #Q12\n",
    "  \n",
    "X = sqlite3.connect('SalesDBNew.db')\n",
    "Y = X.cursor()\n",
    " \n",
    "Y.execute(\"SELECT * FROM Supermarket_sales WHERE City='Yangon'\")\n",
    "new_list=[]\n",
    "\n",
    "for k in Y.fetchall():\n",
    "  new_list.append(int(k[7]))\n",
    "  \n",
    "print(\"Toatal Sales in Yangon = \",sum(new_list))  \n",
    "\n",
    "X.commit()\n",
    "Y.close()"
   ]
  },
  {
   "cell_type": "code",
   "execution_count": 22,
   "id": "aced8e1a-d111-4464-9b2e-fae33b858467",
   "metadata": {},
   "outputs": [
    {
     "name": "stdout",
     "output_type": "stream",
     "text": [
      "Toatal Sales in Mandalay =  1820\n"
     ]
    }
   ],
   "source": [
    "import sqlite3 #Q12\n",
    "  \n",
    "X = sqlite3.connect('SalesDBNew.db')\n",
    "Y = X.cursor()\n",
    " \n",
    "Y.execute(\"SELECT * FROM Supermarket_sales WHERE City='Mandalay'\")\n",
    "new_list=[]\n",
    "\n",
    "for k in Y.fetchall():\n",
    "  new_list.append(int(k[7]))\n",
    "  \n",
    "print(\"Toatal Sales in Mandalay = \",sum(new_list))  \n",
    "\n",
    "X.commit()\n",
    "Y.close()"
   ]
  },
  {
   "cell_type": "code",
   "execution_count": null,
   "id": "16d3560a-a128-42c4-ab8a-e4797c05781b",
   "metadata": {},
   "outputs": [],
   "source": [
    "#Sales in Yangon is greater than in Mandalay"
   ]
  },
  {
   "cell_type": "code",
   "execution_count": null,
   "id": "33719f03-a102-4aaf-9389-fe57b12d0453",
   "metadata": {},
   "outputs": [],
   "source": [
    "#Q13,15,16 not done (Error in the Qs)"
   ]
  },
  {
   "cell_type": "code",
   "execution_count": 23,
   "id": "44708576-00cf-4d2f-9502-8dadea31aad1",
   "metadata": {},
   "outputs": [
    {
     "data": {
      "text/plain": [
       "<matplotlib.collections.PathCollection at 0x1bf872e47f0>"
      ]
     },
     "execution_count": 23,
     "metadata": {},
     "output_type": "execute_result"
    },
    {
     "data": {
      "image/png": "[encoded data removed]",
      "text/plain": [
       "<Figure size 432x288 with 1 Axes>"
      ]
     },
     "metadata": {
      "needs_background": "light"
     },
     "output_type": "display_data"
    }
   ],
   "source": [
    "import sqlite3 #Q14\n",
    "  \n",
    "X = sqlite3.connect('SalesDBNew.db')\n",
    "Y = X.cursor()\n",
    "\n",
    "Y.execute(\"SELECT * FROM Supermarket_sales\")\n",
    "new_list=[]\n",
    "\n",
    "for k in Y.fetchall():\n",
    "  new_list.append(int(k[8]))\n",
    "\n",
    "Y.execute(\"SELECT * FROM Supermarket_sales\")\n",
    "\n",
    "new_list1=[]\n",
    "for k in Y.fetchall():\n",
    "  new_list1.append(int(k[16]))\n",
    "\n",
    "X.commit()\n",
    "Y.close()\n",
    "\n",
    "import matplotlib.pyplot as plt\n",
    "plt.scatter(new_list,new_list1) \n",
    "\n"
   ]
  },
  {
   "cell_type": "code",
   "execution_count": 24,
   "id": "d81bb6c5-045a-4fae-b813-fab9b582e3a9",
   "metadata": {},
   "outputs": [
    {
     "ename": "ValueError",
     "evalue": "invalid literal for int() with base 10: '3.82'",
     "output_type": "error",
     "traceback": [
      "\u001b[1;31m---------------------------------------------------------------------------\u001b[0m",
      "\u001b[1;31mValueError\u001b[0m                                Traceback (most recent call last)",
      "\u001b[1;32m<ipython-input-24-81bc2be3ed79>\u001b[0m in \u001b[0;36m<module>\u001b[1;34m\u001b[0m\n\u001b[0;32m      8\u001b[0m \u001b[1;33m\u001b[0m\u001b[0m\n\u001b[0;32m      9\u001b[0m \u001b[1;32mfor\u001b[0m \u001b[0mk\u001b[0m \u001b[1;32min\u001b[0m \u001b[0mY\u001b[0m\u001b[1;33m.\u001b[0m\u001b[0mfetchall\u001b[0m\u001b[1;33m(\u001b[0m\u001b[1;33m)\u001b[0m\u001b[1;33m:\u001b[0m\u001b[1;33m\u001b[0m\u001b[1;33m\u001b[0m\u001b[0m\n\u001b[1;32m---> 10\u001b[1;33m   \u001b[0mnew_list\u001b[0m\u001b[1;33m.\u001b[0m\u001b[0mappend\u001b[0m\u001b[1;33m(\u001b[0m\u001b[0mint\u001b[0m\u001b[1;33m(\u001b[0m\u001b[0mk\u001b[0m\u001b[1;33m[\u001b[0m\u001b[1;36m14\u001b[0m\u001b[1;33m]\u001b[0m\u001b[1;33m)\u001b[0m\u001b[1;33m)\u001b[0m\u001b[1;33m\u001b[0m\u001b[1;33m\u001b[0m\u001b[0m\n\u001b[0m\u001b[0;32m     11\u001b[0m \u001b[1;33m\u001b[0m\u001b[0m\n\u001b[0;32m     12\u001b[0m \u001b[0mprint\u001b[0m\u001b[1;33m(\u001b[0m\u001b[1;34m\"Toatal Sales in Yangon = \"\u001b[0m\u001b[1;33m,\u001b[0m\u001b[0msum\u001b[0m\u001b[1;33m(\u001b[0m\u001b[0mnew_list\u001b[0m\u001b[1;33m)\u001b[0m\u001b[1;33m)\u001b[0m\u001b[1;33m\u001b[0m\u001b[1;33m\u001b[0m\u001b[0m\n",
      "\u001b[1;31mValueError\u001b[0m: invalid literal for int() with base 10: '3.82'"
     ]
    }
   ],
   "source": [
    "import sqlite3 #Q17\n",
    "  \n",
    "X = sqlite3.connect('SalesDBNew.db')\n",
    "Y = X.cursor()\n",
    " \n",
    "Y.execute(\"SELECT * FROM Supermarket_sales WHERE Customertype = 'Normal'\")\n",
    "new_list=[]\n",
    "\n",
    "for k in Y.fetchall():\n",
    "  new_list.append(int(k[14]))\n",
    "  \n",
    "print(\"Toatal Sales in Yangon = \",sum(new_list))  \n",
    "\n",
    "X.commit()\n",
    "Y.close()"
   ]
  },
  {
   "cell_type": "code",
   "execution_count": null,
   "id": "63a4ba10-500c-4ce0-98d4-6b46e852233e",
   "metadata": {},
   "outputs": [],
   "source": []
  }
 ],
 "metadata": {
  "kernelspec": {
   "display_name": "Python 3",
   "language": "python",
   "name": "python3"
  },
  "language_info": {
   "codemirror_mode": {
    "name": "ipython",
    "version": 3
   },
   "file_extension": ".py",
   "mimetype": "text/x-python",
   "name": "python",
   "nbconvert_exporter": "python",
   "pygments_lexer": "ipython3",
   "version": "3.8.8"
  }
 },
 "nbformat": 4,
 "nbformat_minor": 5
}
